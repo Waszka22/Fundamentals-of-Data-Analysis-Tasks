{
 "cells": [
  {
   "cell_type": "markdown",
   "metadata": {},
   "source": [
    "Project for Fundamentals of Data Analaysis module on Higher Diploma in Science in Computing in Data Analytics at ATU.\n",
    "\n",
    "The module presents:\n",
    "* Source and investigate sets of data\n",
    "* Programmatically explore and visualise data\n",
    "* Apply basic mathematical data analysis techniques to data sets\n",
    "* Write programs to automate basic data analysis techniques\n",
    "\n",
    "___\n",
    "The Data was extracted from Fisher's Irish data set. The Famous database from Fisher, 1936. The data set consists of 50 sampels of three Iris species: Iris-setosa, Iris-versicolor and Iris-virginica. The webise: https://archive.ics.uci.edu/ml/datasets/iris\n",
    "\n",
    "___"
   ]
  },
  {
   "cell_type": "markdown",
   "metadata": {},
   "source": [
    "Description about database: \n",
    "*The Iris Data set has 150 rows and 5 colums.\n",
    "*The data has two dimension.\n",
    "*No missing data in this dataset.\n",
    "*The first column represented sepal length, the second column represented sepal width, the third column represented petal length, and the fourth column represented petal width.\n",
    "*The data was imported from csv file."
   ]
  }
 ],
 "metadata": {
  "language_info": {
   "name": "python"
  }
 },
 "nbformat": 4,
 "nbformat_minor": 2
}
